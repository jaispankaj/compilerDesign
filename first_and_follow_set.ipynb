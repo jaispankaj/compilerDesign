{
  "nbformat": 4,
  "nbformat_minor": 0,
  "metadata": {
    "colab": {
      "name": "first_and_follow_set.ipynb",
      "provenance": [],
      "authorship_tag": "ABX9TyOjXiiNmuHch3Uo9LBZmNkn",
      "include_colab_link": true
    },
    "kernelspec": {
      "name": "python3",
      "display_name": "Python 3"
    }
  },
  "cells": [
    {
      "cell_type": "markdown",
      "metadata": {
        "id": "view-in-github",
        "colab_type": "text"
      },
      "source": [
        "<a href=\"https://colab.research.google.com/github/jaispankaj/compilerDesign/blob/master/first_and_follow_set.ipynb\" target=\"_parent\"><img src=\"https://colab.research.google.com/assets/colab-badge.svg\" alt=\"Open In Colab\"/></a>"
      ]
    },
    {
      "cell_type": "code",
      "metadata": {
        "id": "xgNui2lO5HhN",
        "colab_type": "code",
        "colab": {}
      },
      "source": [
        "\n",
        "\n",
        "G={'S':['TE'], 'E':['+TE','£'], 'T':['FD'], 'D':['*FD','£'],'F':['(E)','I']}\n",
        "NT=['+','*','(',')','I']\n",
        "First={}\n",
        "for t in G:\n",
        "  First[t]=[]"
      ],
      "execution_count": 0,
      "outputs": []
    },
    {
      "cell_type": "code",
      "metadata": {
        "id": "SKkrduTE8Qa3",
        "colab_type": "code",
        "outputId": "36f40306-4ebb-4e39-c394-7e77106c6f9b",
        "colab": {
          "base_uri": "https://localhost:8080/",
          "height": 104
        }
      },
      "source": [
        "for t in G:\n",
        "  First[t]=[]\n",
        "  for p in G[t]:\n",
        "    if p[0] in NT:\n",
        "      First[t].append(p[0])\n",
        "    elif(p=='£'):\n",
        "      First[t].append(p[0])\n",
        "    else:\n",
        "      a=First[p[0]]\n",
        "      for i in range(len(First[p[0]])):\n",
        "        if a[i] in NT:\n",
        "            First[t].append(a[i])\n",
        "\n",
        "\n",
        "\n",
        "for t in G:\n",
        "  print(t+str(First[t]))"
      ],
      "execution_count": 0,
      "outputs": [
        {
          "output_type": "stream",
          "text": [
            "S['(', 'I']\n",
            "E['+', '£']\n",
            "T['(', 'I']\n",
            "D['*', '£']\n",
            "F['(', 'I']\n"
          ],
          "name": "stdout"
        }
      ]
    },
    {
      "cell_type": "code",
      "metadata": {
        "id": "nUo4N1lSBkdy",
        "colab_type": "code",
        "colab": {}
      },
      "source": [
        "Follow={}\n",
        "for t in G:\n",
        "  Follow[t]=[]\n",
        "  if(t=='S'):\n",
        "    Follow[t].append('$')\n",
        "  for p in G[t]:\n",
        "    "
      ],
      "execution_count": 0,
      "outputs": []
    }
  ]
}